{
 "cells": [
  {
   "cell_type": "markdown",
   "id": "5bea2661",
   "metadata": {},
   "source": [
    "# Attachment 3.1"
   ]
  },
  {
   "cell_type": "markdown",
   "id": "7ead53e6",
   "metadata": {},
   "source": [
    "# Loading Libraries"
   ]
  },
  {
   "cell_type": "code",
   "execution_count": 1,
   "id": "029ea3ad",
   "metadata": {},
   "outputs": [
    {
     "name": "stdout",
     "output_type": "stream",
     "text": [
      "Requirement already satisfied: imbalanced-learn in c:\\users\\p-mir\\anaconda3\\lib\\site-packages (0.10.1)\n",
      "Requirement already satisfied: scipy>=1.3.2 in c:\\users\\p-mir\\anaconda3\\lib\\site-packages (from imbalanced-learn) (1.7.3)\n",
      "Requirement already satisfied: threadpoolctl>=2.0.0 in c:\\users\\p-mir\\anaconda3\\lib\\site-packages (from imbalanced-learn) (2.2.0)\n",
      "Requirement already satisfied: numpy>=1.17.3 in c:\\users\\p-mir\\anaconda3\\lib\\site-packages (from imbalanced-learn) (1.21.5)\n",
      "Requirement already satisfied: scikit-learn>=1.0.2 in c:\\users\\p-mir\\anaconda3\\lib\\site-packages (from imbalanced-learn) (1.2.2)\n",
      "Requirement already satisfied: joblib>=1.1.1 in c:\\users\\p-mir\\anaconda3\\lib\\site-packages (from imbalanced-learn) (1.2.0)\n",
      "\n",
      "[notice] A new release of pip available: 22.1.2 -> 23.0.1\n",
      "[notice] To update, run: python.exe -m pip install --upgrade pip\n",
      "Note: you may need to restart the kernel to use updated packages.\n"
     ]
    }
   ],
   "source": [
    "pip install -U imbalanced-learn"
   ]
  },
  {
   "cell_type": "code",
   "execution_count": 2,
   "id": "68b33caa",
   "metadata": {},
   "outputs": [
    {
     "name": "stdout",
     "output_type": "stream",
     "text": [
      "Requirement already satisfied: dtreeviz in c:\\users\\p-mir\\anaconda3\\lib\\site-packages (2.2.0)\n",
      "Requirement already satisfied: pandas in c:\\users\\p-mir\\anaconda3\\lib\\site-packages (from dtreeviz) (1.4.2)\n",
      "Requirement already satisfied: numpy in c:\\users\\p-mir\\anaconda3\\lib\\site-packages (from dtreeviz) (1.21.5)\n",
      "Requirement already satisfied: matplotlib in c:\\users\\p-mir\\anaconda3\\lib\\site-packages (from dtreeviz) (3.5.1)\n",
      "Requirement already satisfied: graphviz>=0.9 in c:\\users\\p-mir\\anaconda3\\lib\\site-packages (from dtreeviz) (0.20.1)\n",
      "Requirement already satisfied: colour in c:\\users\\p-mir\\anaconda3\\lib\\site-packages (from dtreeviz) (0.1.5)\n",
      "Requirement already satisfied: pytest in c:\\users\\p-mir\\anaconda3\\lib\\site-packages (from dtreeviz) (7.1.1)\n",
      "Requirement already satisfied: scikit-learn in c:\\users\\p-mir\\anaconda3\\lib\\site-packages (from dtreeviz) (1.2.2)\n",
      "Requirement already satisfied: cycler>=0.10 in c:\\users\\p-mir\\anaconda3\\lib\\site-packages (from matplotlib->dtreeviz) (0.11.0)\n",
      "Requirement already satisfied: pyparsing>=2.2.1 in c:\\users\\p-mir\\anaconda3\\lib\\site-packages (from matplotlib->dtreeviz) (3.0.4)\n",
      "Requirement already satisfied: kiwisolver>=1.0.1 in c:\\users\\p-mir\\anaconda3\\lib\\site-packages (from matplotlib->dtreeviz) (1.3.2)\n",
      "Requirement already satisfied: packaging>=20.0 in c:\\users\\p-mir\\anaconda3\\lib\\site-packages (from matplotlib->dtreeviz) (21.3)\n",
      "Requirement already satisfied: fonttools>=4.22.0 in c:\\users\\p-mir\\anaconda3\\lib\\site-packages (from matplotlib->dtreeviz) (4.25.0)\n",
      "Requirement already satisfied: python-dateutil>=2.7 in c:\\users\\p-mir\\anaconda3\\lib\\site-packages (from matplotlib->dtreeviz) (2.8.2)\n",
      "Requirement already satisfied: pillow>=6.2.0 in c:\\users\\p-mir\\anaconda3\\lib\\site-packages (from matplotlib->dtreeviz) (9.0.1)\n",
      "Requirement already satisfied: pytz>=2020.1 in c:\\users\\p-mir\\anaconda3\\lib\\site-packages (from pandas->dtreeviz) (2021.3)\n",
      "Requirement already satisfied: attrs>=19.2.0 in c:\\users\\p-mir\\anaconda3\\lib\\site-packages (from pytest->dtreeviz) (21.4.0)\n",
      "Requirement already satisfied: iniconfig in c:\\users\\p-mir\\anaconda3\\lib\\site-packages (from pytest->dtreeviz) (1.1.1)\n",
      "Requirement already satisfied: pluggy<2.0,>=0.12 in c:\\users\\p-mir\\anaconda3\\lib\\site-packages (from pytest->dtreeviz) (1.0.0)\n",
      "Requirement already satisfied: py>=1.8.2 in c:\\users\\p-mir\\anaconda3\\lib\\site-packages (from pytest->dtreeviz) (1.11.0)\n",
      "Requirement already satisfied: tomli>=1.0.0 in c:\\users\\p-mir\\anaconda3\\lib\\site-packages (from pytest->dtreeviz) (1.2.2)\n",
      "Requirement already satisfied: atomicwrites>=1.0 in c:\\users\\p-mir\\anaconda3\\lib\\site-packages (from pytest->dtreeviz) (1.4.0)\n",
      "Requirement already satisfied: colorama in c:\\users\\p-mir\\anaconda3\\lib\\site-packages (from pytest->dtreeviz) (0.4.4)\n",
      "Requirement already satisfied: scipy>=1.3.2 in c:\\users\\p-mir\\anaconda3\\lib\\site-packages (from scikit-learn->dtreeviz) (1.7.3)\n",
      "Requirement already satisfied: threadpoolctl>=2.0.0 in c:\\users\\p-mir\\anaconda3\\lib\\site-packages (from scikit-learn->dtreeviz) (2.2.0)\n",
      "Requirement already satisfied: joblib>=1.1.1 in c:\\users\\p-mir\\anaconda3\\lib\\site-packages (from scikit-learn->dtreeviz) (1.2.0)\n",
      "Requirement already satisfied: six>=1.5 in c:\\users\\p-mir\\anaconda3\\lib\\site-packages (from python-dateutil>=2.7->matplotlib->dtreeviz) (1.16.0)\n",
      "\n",
      "[notice] A new release of pip available: 22.1.2 -> 23.0.1\n",
      "[notice] To update, run: python.exe -m pip install --upgrade pip\n",
      "Note: you may need to restart the kernel to use updated packages.\n"
     ]
    }
   ],
   "source": [
    "pip install dtreeviz"
   ]
  },
  {
   "cell_type": "code",
   "execution_count": 3,
   "id": "eaea2e28",
   "metadata": {},
   "outputs": [
    {
     "name": "stdout",
     "output_type": "stream",
     "text": [
      "Requirement already satisfied: xgboost in c:\\users\\p-mir\\anaconda3\\lib\\site-packages (1.7.4)Note: you may need to restart the kernel to use updated packages.\n",
      "\n",
      "Requirement already satisfied: scipy in c:\\users\\p-mir\\anaconda3\\lib\\site-packages (from xgboost) (1.7.3)\n",
      "Requirement already satisfied: numpy in c:\\users\\p-mir\\anaconda3\\lib\\site-packages (from xgboost) (1.21.5)\n",
      "\n",
      "[notice] A new release of pip available: 22.1.2 -> 23.0.1\n",
      "[notice] To update, run: python.exe -m pip install --upgrade pip\n"
     ]
    }
   ],
   "source": [
    "pip install xgboost"
   ]
  },
  {
   "cell_type": "code",
   "execution_count": 4,
   "id": "a12039d2",
   "metadata": {},
   "outputs": [
    {
     "name": "stdout",
     "output_type": "stream",
     "text": [
      "Requirement already satisfied: scikit-learn in c:\\users\\p-mir\\anaconda3\\lib\\site-packages (1.2.2)\n",
      "Requirement already satisfied: threadpoolctl>=2.0.0 in c:\\users\\p-mir\\anaconda3\\lib\\site-packages (from scikit-learn) (2.2.0)\n",
      "Requirement already satisfied: joblib>=1.1.1 in c:\\users\\p-mir\\anaconda3\\lib\\site-packages (from scikit-learn) (1.2.0)\n",
      "Requirement already satisfied: numpy>=1.17.3 in c:\\users\\p-mir\\anaconda3\\lib\\site-packages (from scikit-learn) (1.21.5)\n",
      "Requirement already satisfied: scipy>=1.3.2 in c:\\users\\p-mir\\anaconda3\\lib\\site-packages (from scikit-learn) (1.7.3)\n",
      "\n",
      "[notice] A new release of pip available: 22.1.2 -> 23.0.1\n",
      "[notice] To update, run: python.exe -m pip install --upgrade pip\n",
      "Note: you may need to restart the kernel to use updated packages.\n"
     ]
    }
   ],
   "source": [
    "pip install -U scikit-learn"
   ]
  },
  {
   "cell_type": "code",
   "execution_count": 5,
   "id": "21fbd871",
   "metadata": {},
   "outputs": [],
   "source": [
    "# Creating the modeling dataset\n",
    "from sklearn.datasets import make_classification\n",
    "# Data processing\n",
    "import pandas as pd\n",
    "import numpy as np\n",
    "# Data visualization\n",
    "from matplotlib import pyplot\n",
    "import matplotlib.pyplot as plt\n",
    "import seaborn as sns\n",
    "# Model and performance\n",
    "from sklearn.preprocessing import StandardScaler\n",
    "from sklearn.model_selection import train_test_split\n",
    "from sklearn.tree import DecisionTreeClassifier\n",
    "from sklearn.ensemble import RandomForestClassifier\n",
    "from sklearn.metrics import classification_report\n",
    "from sklearn.linear_model import LogisticRegression\n",
    "from sklearn import metrics\n",
    "from sklearn.tree import DecisionTreeRegressor\n",
    "from sklearn.metrics import mean_absolute_error\n",
    "from xgboost import XGBClassifier\n",
    "from sklearn.cluster import KMeans\n",
    "from scipy.spatial.distance import cdist\n",
    "from sklearn.datasets import make_blobs\n",
    "from sklearn.metrics import silhouette_score\n",
    "from sklearn.feature_selection import SelectKBest, f_regression\n",
    "from sklearn.feature_selection import RFECV \n",
    "from sklearn.linear_model import LinearRegression\n",
    "from sklearn.model_selection import StratifiedKFold\n",
    "from sklearn.feature_selection import SelectKBest, chi2\n",
    "from sklearn.ensemble import RandomForestClassifier\n",
    "from sklearn.metrics import accuracy_score, confusion_matrix\n",
    "from sklearn.decomposition import PCA"
   ]
  },
  {
   "cell_type": "markdown",
   "id": "625c5ae4",
   "metadata": {},
   "source": [
    "### Loading Dataset, observing data and pre-processing"
   ]
  },
  {
   "cell_type": "code",
   "execution_count": 6,
   "id": "160511d9",
   "metadata": {},
   "outputs": [
    {
     "name": "stdout",
     "output_type": "stream",
     "text": [
      "<class 'pandas.core.frame.DataFrame'>\n",
      "RangeIndex: 5820 entries, 0 to 5819\n",
      "Data columns (total 25 columns):\n",
      " #   Column            Non-Null Count  Dtype  \n",
      "---  ------            --------------  -----  \n",
      " 0   CustomerCode      5820 non-null   object \n",
      " 1   CountryName       5820 non-null   object \n",
      " 2   USA               5781 non-null   float64\n",
      " 3   UK                5781 non-null   float64\n",
      " 4   Italy             5781 non-null   float64\n",
      " 5   Belgium           5781 non-null   float64\n",
      " 6   Romania           5781 non-null   float64\n",
      " 7   Australia         5781 non-null   float64\n",
      " 8   India             5781 non-null   float64\n",
      " 9   QtyRequired       5820 non-null   int64  \n",
      " 10  ITEM_NAME         5820 non-null   object \n",
      " 11  Hand Tufted       5820 non-null   int64  \n",
      " 12  Durry             5820 non-null   int64  \n",
      " 13  Double Back       5820 non-null   int64  \n",
      " 14  Hand Woven        5820 non-null   int64  \n",
      " 15  Knotted           5820 non-null   int64  \n",
      " 16  Jacquard          5820 non-null   int64  \n",
      " 17  Handloom          5820 non-null   int64  \n",
      " 18  Other             5820 non-null   int64  \n",
      " 19  ShapeName         5820 non-null   object \n",
      " 20  REC               5820 non-null   int64  \n",
      " 21  Round             5820 non-null   int64  \n",
      " 22  Square            5820 non-null   int64  \n",
      " 23  AreaFt            5820 non-null   float64\n",
      " 24  Order Conversion  5820 non-null   int64  \n",
      "dtypes: float64(8), int64(13), object(4)\n",
      "memory usage: 1.1+ MB\n"
     ]
    }
   ],
   "source": [
    "filename = 'SampleOnly.csv'\n",
    "data = pd.read_csv(filename)\n",
    "data.info()"
   ]
  },
  {
   "cell_type": "code",
   "execution_count": 7,
   "id": "9dd68988",
   "metadata": {},
   "outputs": [
    {
     "data": {
      "text/html": [
       "<div>\n",
       "<style scoped>\n",
       "    .dataframe tbody tr th:only-of-type {\n",
       "        vertical-align: middle;\n",
       "    }\n",
       "\n",
       "    .dataframe tbody tr th {\n",
       "        vertical-align: top;\n",
       "    }\n",
       "\n",
       "    .dataframe thead th {\n",
       "        text-align: right;\n",
       "    }\n",
       "</style>\n",
       "<table border=\"1\" class=\"dataframe\">\n",
       "  <thead>\n",
       "    <tr style=\"text-align: right;\">\n",
       "      <th></th>\n",
       "      <th>CustomerCode</th>\n",
       "      <th>CountryName</th>\n",
       "      <th>USA</th>\n",
       "      <th>UK</th>\n",
       "      <th>Italy</th>\n",
       "      <th>Belgium</th>\n",
       "      <th>Romania</th>\n",
       "      <th>Australia</th>\n",
       "      <th>India</th>\n",
       "      <th>QtyRequired</th>\n",
       "      <th>...</th>\n",
       "      <th>Knotted</th>\n",
       "      <th>Jacquard</th>\n",
       "      <th>Handloom</th>\n",
       "      <th>Other</th>\n",
       "      <th>ShapeName</th>\n",
       "      <th>REC</th>\n",
       "      <th>Round</th>\n",
       "      <th>Square</th>\n",
       "      <th>AreaFt</th>\n",
       "      <th>Order Conversion</th>\n",
       "    </tr>\n",
       "  </thead>\n",
       "  <tbody>\n",
       "    <tr>\n",
       "      <th>0</th>\n",
       "      <td>CC</td>\n",
       "      <td>INDIA</td>\n",
       "      <td>0.0</td>\n",
       "      <td>0.0</td>\n",
       "      <td>0.0</td>\n",
       "      <td>0.0</td>\n",
       "      <td>0.0</td>\n",
       "      <td>0.0</td>\n",
       "      <td>1.0</td>\n",
       "      <td>1</td>\n",
       "      <td>...</td>\n",
       "      <td>0</td>\n",
       "      <td>0</td>\n",
       "      <td>0</td>\n",
       "      <td>0</td>\n",
       "      <td>REC</td>\n",
       "      <td>1</td>\n",
       "      <td>0</td>\n",
       "      <td>0</td>\n",
       "      <td>80.0</td>\n",
       "      <td>1</td>\n",
       "    </tr>\n",
       "    <tr>\n",
       "      <th>1</th>\n",
       "      <td>M-1</td>\n",
       "      <td>USA</td>\n",
       "      <td>1.0</td>\n",
       "      <td>0.0</td>\n",
       "      <td>0.0</td>\n",
       "      <td>0.0</td>\n",
       "      <td>0.0</td>\n",
       "      <td>0.0</td>\n",
       "      <td>0.0</td>\n",
       "      <td>1</td>\n",
       "      <td>...</td>\n",
       "      <td>0</td>\n",
       "      <td>0</td>\n",
       "      <td>0</td>\n",
       "      <td>0</td>\n",
       "      <td>REC</td>\n",
       "      <td>1</td>\n",
       "      <td>0</td>\n",
       "      <td>0</td>\n",
       "      <td>80.0</td>\n",
       "      <td>1</td>\n",
       "    </tr>\n",
       "    <tr>\n",
       "      <th>2</th>\n",
       "      <td>M-1</td>\n",
       "      <td>USA</td>\n",
       "      <td>1.0</td>\n",
       "      <td>0.0</td>\n",
       "      <td>0.0</td>\n",
       "      <td>0.0</td>\n",
       "      <td>0.0</td>\n",
       "      <td>0.0</td>\n",
       "      <td>0.0</td>\n",
       "      <td>2</td>\n",
       "      <td>...</td>\n",
       "      <td>0</td>\n",
       "      <td>0</td>\n",
       "      <td>0</td>\n",
       "      <td>0</td>\n",
       "      <td>REC</td>\n",
       "      <td>1</td>\n",
       "      <td>0</td>\n",
       "      <td>0</td>\n",
       "      <td>80.0</td>\n",
       "      <td>1</td>\n",
       "    </tr>\n",
       "    <tr>\n",
       "      <th>3</th>\n",
       "      <td>M-1</td>\n",
       "      <td>USA</td>\n",
       "      <td>1.0</td>\n",
       "      <td>0.0</td>\n",
       "      <td>0.0</td>\n",
       "      <td>0.0</td>\n",
       "      <td>0.0</td>\n",
       "      <td>0.0</td>\n",
       "      <td>0.0</td>\n",
       "      <td>1</td>\n",
       "      <td>...</td>\n",
       "      <td>0</td>\n",
       "      <td>0</td>\n",
       "      <td>0</td>\n",
       "      <td>0</td>\n",
       "      <td>REC</td>\n",
       "      <td>1</td>\n",
       "      <td>0</td>\n",
       "      <td>0</td>\n",
       "      <td>80.0</td>\n",
       "      <td>1</td>\n",
       "    </tr>\n",
       "    <tr>\n",
       "      <th>4</th>\n",
       "      <td>M-1</td>\n",
       "      <td>USA</td>\n",
       "      <td>1.0</td>\n",
       "      <td>0.0</td>\n",
       "      <td>0.0</td>\n",
       "      <td>0.0</td>\n",
       "      <td>0.0</td>\n",
       "      <td>0.0</td>\n",
       "      <td>0.0</td>\n",
       "      <td>1</td>\n",
       "      <td>...</td>\n",
       "      <td>0</td>\n",
       "      <td>0</td>\n",
       "      <td>0</td>\n",
       "      <td>0</td>\n",
       "      <td>REC</td>\n",
       "      <td>1</td>\n",
       "      <td>0</td>\n",
       "      <td>0</td>\n",
       "      <td>80.0</td>\n",
       "      <td>1</td>\n",
       "    </tr>\n",
       "  </tbody>\n",
       "</table>\n",
       "<p>5 rows × 25 columns</p>\n",
       "</div>"
      ],
      "text/plain": [
       "  CustomerCode CountryName  USA   UK  Italy  Belgium  Romania  Australia  \\\n",
       "0           CC       INDIA  0.0  0.0    0.0      0.0      0.0        0.0   \n",
       "1          M-1         USA  1.0  0.0    0.0      0.0      0.0        0.0   \n",
       "2          M-1         USA  1.0  0.0    0.0      0.0      0.0        0.0   \n",
       "3          M-1         USA  1.0  0.0    0.0      0.0      0.0        0.0   \n",
       "4          M-1         USA  1.0  0.0    0.0      0.0      0.0        0.0   \n",
       "\n",
       "   India  QtyRequired  ... Knotted  Jacquard  Handloom  Other  ShapeName  REC  \\\n",
       "0    1.0            1  ...       0         0         0      0        REC    1   \n",
       "1    0.0            1  ...       0         0         0      0        REC    1   \n",
       "2    0.0            2  ...       0         0         0      0        REC    1   \n",
       "3    0.0            1  ...       0         0         0      0        REC    1   \n",
       "4    0.0            1  ...       0         0         0      0        REC    1   \n",
       "\n",
       "   Round  Square  AreaFt Order Conversion  \n",
       "0      0       0    80.0                1  \n",
       "1      0       0    80.0                1  \n",
       "2      0       0    80.0                1  \n",
       "3      0       0    80.0                1  \n",
       "4      0       0    80.0                1  \n",
       "\n",
       "[5 rows x 25 columns]"
      ]
     },
     "execution_count": 7,
     "metadata": {},
     "output_type": "execute_result"
    }
   ],
   "source": [
    "data.head()"
   ]
  },
  {
   "cell_type": "code",
   "execution_count": 8,
   "id": "933b7f73",
   "metadata": {},
   "outputs": [
    {
     "data": {
      "text/plain": [
       "CustomerCode        5820\n",
       "CountryName         5820\n",
       "USA                 5781\n",
       "UK                  5781\n",
       "Italy               5781\n",
       "Belgium             5781\n",
       "Romania             5781\n",
       "Australia           5781\n",
       "India               5781\n",
       "QtyRequired         5820\n",
       "ITEM_NAME           5820\n",
       "Hand Tufted         5820\n",
       "Durry               5820\n",
       "Double Back         5820\n",
       "Hand Woven          5820\n",
       "Knotted             5820\n",
       "Jacquard            5820\n",
       "Handloom            5820\n",
       "Other               5820\n",
       "ShapeName           5820\n",
       "REC                 5820\n",
       "Round               5820\n",
       "Square              5820\n",
       "AreaFt              5820\n",
       "Order Conversion    5820\n",
       "dtype: int64"
      ]
     },
     "execution_count": 8,
     "metadata": {},
     "output_type": "execute_result"
    }
   ],
   "source": [
    "df = pd.DataFrame(data)\n",
    "df.count()"
   ]
  },
  {
   "cell_type": "code",
   "execution_count": 9,
   "id": "a850cea7",
   "metadata": {},
   "outputs": [
    {
     "data": {
      "text/plain": [
       "Order Conversion\n",
       "0                   4651\n",
       "1                   1169\n",
       "dtype: int64"
      ]
     },
     "execution_count": 9,
     "metadata": {},
     "output_type": "execute_result"
    }
   ],
   "source": [
    "df.value_counts(['Order Conversion'])"
   ]
  },
  {
   "cell_type": "code",
   "execution_count": 10,
   "id": "ee0e0d73",
   "metadata": {},
   "outputs": [
    {
     "data": {
      "text/plain": [
       "CustomerCode        False\n",
       "CountryName         False\n",
       "USA                  True\n",
       "UK                   True\n",
       "Italy                True\n",
       "Belgium              True\n",
       "Romania              True\n",
       "Australia            True\n",
       "India                True\n",
       "QtyRequired         False\n",
       "ITEM_NAME           False\n",
       "Hand Tufted         False\n",
       "Durry               False\n",
       "Double Back         False\n",
       "Hand Woven          False\n",
       "Knotted             False\n",
       "Jacquard            False\n",
       "Handloom            False\n",
       "Other               False\n",
       "ShapeName           False\n",
       "REC                 False\n",
       "Round               False\n",
       "Square              False\n",
       "AreaFt              False\n",
       "Order Conversion    False\n",
       "dtype: bool"
      ]
     },
     "execution_count": 10,
     "metadata": {},
     "output_type": "execute_result"
    }
   ],
   "source": [
    "df.isnull().any(axis = 0)"
   ]
  },
  {
   "cell_type": "code",
   "execution_count": 11,
   "id": "65ed5445",
   "metadata": {},
   "outputs": [
    {
     "data": {
      "text/plain": [
       "CustomerCode        False\n",
       "CountryName         False\n",
       "USA                 False\n",
       "UK                  False\n",
       "Italy               False\n",
       "Belgium             False\n",
       "Romania             False\n",
       "Australia           False\n",
       "India               False\n",
       "QtyRequired         False\n",
       "ITEM_NAME           False\n",
       "Hand Tufted         False\n",
       "Durry               False\n",
       "Double Back         False\n",
       "Hand Woven          False\n",
       "Knotted             False\n",
       "Jacquard            False\n",
       "Handloom            False\n",
       "Other               False\n",
       "ShapeName           False\n",
       "REC                 False\n",
       "Round               False\n",
       "Square              False\n",
       "AreaFt              False\n",
       "Order Conversion    False\n",
       "dtype: bool"
      ]
     },
     "execution_count": 11,
     "metadata": {},
     "output_type": "execute_result"
    }
   ],
   "source": [
    "df2 = df.dropna(how='any', axis=0)\n",
    "df2.isnull().any(axis = 0)"
   ]
  },
  {
   "cell_type": "code",
   "execution_count": 12,
   "id": "89bc50d8",
   "metadata": {},
   "outputs": [
    {
     "name": "stdout",
     "output_type": "stream",
     "text": [
      "ratio: 4.022589052997394\n"
     ]
    }
   ],
   "source": [
    "#Checking for balanced dataset\n",
    "major_df = df2.loc[df2[\"Order Conversion\"]==0]\n",
    "minor_df = df2.loc[df2['Order Conversion']==1]\n",
    "major_df_count = major_df.value_counts(['Order Conversion'])\n",
    "minor_df_count = minor_df.value_counts(['Order Conversion'])\n",
    "ratio = int(major_df_count)/int(minor_df_count)\n",
    "print(\"ratio: {}\".format(ratio))"
   ]
  },
  {
   "cell_type": "code",
   "execution_count": 13,
   "id": "df4c1a37",
   "metadata": {},
   "outputs": [
    {
     "data": {
      "text/plain": [
       "CustomerCode        1151\n",
       "CountryName         1151\n",
       "USA                 1151\n",
       "UK                  1151\n",
       "Italy               1151\n",
       "Belgium             1151\n",
       "Romania             1151\n",
       "Australia           1151\n",
       "India               1151\n",
       "QtyRequired         1151\n",
       "ITEM_NAME           1151\n",
       "Hand Tufted         1151\n",
       "Durry               1151\n",
       "Double Back         1151\n",
       "Hand Woven          1151\n",
       "Knotted             1151\n",
       "Jacquard            1151\n",
       "Handloom            1151\n",
       "Other               1151\n",
       "ShapeName           1151\n",
       "REC                 1151\n",
       "Round               1151\n",
       "Square              1151\n",
       "AreaFt              1151\n",
       "Order Conversion    1151\n",
       "dtype: int64"
      ]
     },
     "execution_count": 13,
     "metadata": {},
     "output_type": "execute_result"
    }
   ],
   "source": [
    "#Creating balanced dataset with undersampling\n",
    "undersample_major_df = major_df.sample(frac=1/ratio)\n",
    "undersample_major_df.count()"
   ]
  },
  {
   "cell_type": "code",
   "execution_count": 14,
   "id": "682a44f3",
   "metadata": {},
   "outputs": [
    {
     "data": {
      "text/plain": [
       "Order Conversion\n",
       "0                   1151\n",
       "1                   1151\n",
       "dtype: int64"
      ]
     },
     "execution_count": 14,
     "metadata": {},
     "output_type": "execute_result"
    }
   ],
   "source": [
    "df_oc = [undersample_major_df,minor_df]\n",
    "merge_oc = pd.concat(df_oc)\n",
    "merge_oc.value_counts(['Order Conversion'])"
   ]
  },
  {
   "cell_type": "code",
   "execution_count": 15,
   "id": "412e426a",
   "metadata": {},
   "outputs": [
    {
     "data": {
      "text/html": [
       "<div>\n",
       "<style scoped>\n",
       "    .dataframe tbody tr th:only-of-type {\n",
       "        vertical-align: middle;\n",
       "    }\n",
       "\n",
       "    .dataframe tbody tr th {\n",
       "        vertical-align: top;\n",
       "    }\n",
       "\n",
       "    .dataframe thead th {\n",
       "        text-align: right;\n",
       "    }\n",
       "</style>\n",
       "<table border=\"1\" class=\"dataframe\">\n",
       "  <thead>\n",
       "    <tr style=\"text-align: right;\">\n",
       "      <th></th>\n",
       "      <th>USA</th>\n",
       "      <th>UK</th>\n",
       "      <th>Italy</th>\n",
       "      <th>Belgium</th>\n",
       "      <th>Romania</th>\n",
       "      <th>Australia</th>\n",
       "      <th>India</th>\n",
       "      <th>QtyRequired</th>\n",
       "      <th>Hand Tufted</th>\n",
       "      <th>Durry</th>\n",
       "      <th>Double Back</th>\n",
       "      <th>Hand Woven</th>\n",
       "      <th>Knotted</th>\n",
       "      <th>Jacquard</th>\n",
       "      <th>Handloom</th>\n",
       "      <th>Other</th>\n",
       "      <th>REC</th>\n",
       "      <th>Round</th>\n",
       "      <th>Square</th>\n",
       "      <th>AreaFt</th>\n",
       "      <th>Order Conversion</th>\n",
       "    </tr>\n",
       "  </thead>\n",
       "  <tbody>\n",
       "    <tr>\n",
       "      <th>5279</th>\n",
       "      <td>0.0</td>\n",
       "      <td>0.0</td>\n",
       "      <td>0.0</td>\n",
       "      <td>0.0</td>\n",
       "      <td>0.0</td>\n",
       "      <td>0.0</td>\n",
       "      <td>1.0</td>\n",
       "      <td>1</td>\n",
       "      <td>0</td>\n",
       "      <td>1</td>\n",
       "      <td>0</td>\n",
       "      <td>0</td>\n",
       "      <td>0</td>\n",
       "      <td>0</td>\n",
       "      <td>0</td>\n",
       "      <td>0</td>\n",
       "      <td>1</td>\n",
       "      <td>0</td>\n",
       "      <td>0</td>\n",
       "      <td>8.4375</td>\n",
       "      <td>0</td>\n",
       "    </tr>\n",
       "    <tr>\n",
       "      <th>1435</th>\n",
       "      <td>1.0</td>\n",
       "      <td>0.0</td>\n",
       "      <td>0.0</td>\n",
       "      <td>0.0</td>\n",
       "      <td>0.0</td>\n",
       "      <td>0.0</td>\n",
       "      <td>0.0</td>\n",
       "      <td>1</td>\n",
       "      <td>1</td>\n",
       "      <td>0</td>\n",
       "      <td>0</td>\n",
       "      <td>0</td>\n",
       "      <td>0</td>\n",
       "      <td>0</td>\n",
       "      <td>0</td>\n",
       "      <td>0</td>\n",
       "      <td>1</td>\n",
       "      <td>0</td>\n",
       "      <td>0</td>\n",
       "      <td>4.0000</td>\n",
       "      <td>0</td>\n",
       "    </tr>\n",
       "    <tr>\n",
       "      <th>3199</th>\n",
       "      <td>0.0</td>\n",
       "      <td>0.0</td>\n",
       "      <td>0.0</td>\n",
       "      <td>0.0</td>\n",
       "      <td>1.0</td>\n",
       "      <td>0.0</td>\n",
       "      <td>0.0</td>\n",
       "      <td>2</td>\n",
       "      <td>1</td>\n",
       "      <td>0</td>\n",
       "      <td>0</td>\n",
       "      <td>0</td>\n",
       "      <td>0</td>\n",
       "      <td>0</td>\n",
       "      <td>0</td>\n",
       "      <td>0</td>\n",
       "      <td>1</td>\n",
       "      <td>0</td>\n",
       "      <td>0</td>\n",
       "      <td>1.7778</td>\n",
       "      <td>0</td>\n",
       "    </tr>\n",
       "    <tr>\n",
       "      <th>5408</th>\n",
       "      <td>0.0</td>\n",
       "      <td>0.0</td>\n",
       "      <td>0.0</td>\n",
       "      <td>0.0</td>\n",
       "      <td>0.0</td>\n",
       "      <td>0.0</td>\n",
       "      <td>1.0</td>\n",
       "      <td>1</td>\n",
       "      <td>0</td>\n",
       "      <td>0</td>\n",
       "      <td>0</td>\n",
       "      <td>1</td>\n",
       "      <td>0</td>\n",
       "      <td>0</td>\n",
       "      <td>0</td>\n",
       "      <td>0</td>\n",
       "      <td>1</td>\n",
       "      <td>0</td>\n",
       "      <td>0</td>\n",
       "      <td>15.0000</td>\n",
       "      <td>0</td>\n",
       "    </tr>\n",
       "    <tr>\n",
       "      <th>5324</th>\n",
       "      <td>0.0</td>\n",
       "      <td>0.0</td>\n",
       "      <td>0.0</td>\n",
       "      <td>0.0</td>\n",
       "      <td>0.0</td>\n",
       "      <td>0.0</td>\n",
       "      <td>1.0</td>\n",
       "      <td>1</td>\n",
       "      <td>0</td>\n",
       "      <td>0</td>\n",
       "      <td>0</td>\n",
       "      <td>1</td>\n",
       "      <td>0</td>\n",
       "      <td>0</td>\n",
       "      <td>0</td>\n",
       "      <td>0</td>\n",
       "      <td>1</td>\n",
       "      <td>0</td>\n",
       "      <td>0</td>\n",
       "      <td>39.8125</td>\n",
       "      <td>0</td>\n",
       "    </tr>\n",
       "    <tr>\n",
       "      <th>...</th>\n",
       "      <td>...</td>\n",
       "      <td>...</td>\n",
       "      <td>...</td>\n",
       "      <td>...</td>\n",
       "      <td>...</td>\n",
       "      <td>...</td>\n",
       "      <td>...</td>\n",
       "      <td>...</td>\n",
       "      <td>...</td>\n",
       "      <td>...</td>\n",
       "      <td>...</td>\n",
       "      <td>...</td>\n",
       "      <td>...</td>\n",
       "      <td>...</td>\n",
       "      <td>...</td>\n",
       "      <td>...</td>\n",
       "      <td>...</td>\n",
       "      <td>...</td>\n",
       "      <td>...</td>\n",
       "      <td>...</td>\n",
       "      <td>...</td>\n",
       "    </tr>\n",
       "    <tr>\n",
       "      <th>5810</th>\n",
       "      <td>1.0</td>\n",
       "      <td>0.0</td>\n",
       "      <td>0.0</td>\n",
       "      <td>0.0</td>\n",
       "      <td>0.0</td>\n",
       "      <td>0.0</td>\n",
       "      <td>0.0</td>\n",
       "      <td>1</td>\n",
       "      <td>0</td>\n",
       "      <td>0</td>\n",
       "      <td>0</td>\n",
       "      <td>0</td>\n",
       "      <td>1</td>\n",
       "      <td>0</td>\n",
       "      <td>0</td>\n",
       "      <td>0</td>\n",
       "      <td>1</td>\n",
       "      <td>0</td>\n",
       "      <td>0</td>\n",
       "      <td>108.0000</td>\n",
       "      <td>1</td>\n",
       "    </tr>\n",
       "    <tr>\n",
       "      <th>5811</th>\n",
       "      <td>1.0</td>\n",
       "      <td>0.0</td>\n",
       "      <td>0.0</td>\n",
       "      <td>0.0</td>\n",
       "      <td>0.0</td>\n",
       "      <td>0.0</td>\n",
       "      <td>0.0</td>\n",
       "      <td>11</td>\n",
       "      <td>0</td>\n",
       "      <td>0</td>\n",
       "      <td>0</td>\n",
       "      <td>0</td>\n",
       "      <td>0</td>\n",
       "      <td>1</td>\n",
       "      <td>0</td>\n",
       "      <td>0</td>\n",
       "      <td>1</td>\n",
       "      <td>0</td>\n",
       "      <td>0</td>\n",
       "      <td>117.0000</td>\n",
       "      <td>1</td>\n",
       "    </tr>\n",
       "    <tr>\n",
       "      <th>5812</th>\n",
       "      <td>1.0</td>\n",
       "      <td>0.0</td>\n",
       "      <td>0.0</td>\n",
       "      <td>0.0</td>\n",
       "      <td>0.0</td>\n",
       "      <td>0.0</td>\n",
       "      <td>0.0</td>\n",
       "      <td>2</td>\n",
       "      <td>0</td>\n",
       "      <td>0</td>\n",
       "      <td>1</td>\n",
       "      <td>0</td>\n",
       "      <td>0</td>\n",
       "      <td>0</td>\n",
       "      <td>0</td>\n",
       "      <td>0</td>\n",
       "      <td>1</td>\n",
       "      <td>0</td>\n",
       "      <td>0</td>\n",
       "      <td>140.0000</td>\n",
       "      <td>1</td>\n",
       "    </tr>\n",
       "    <tr>\n",
       "      <th>5813</th>\n",
       "      <td>1.0</td>\n",
       "      <td>0.0</td>\n",
       "      <td>0.0</td>\n",
       "      <td>0.0</td>\n",
       "      <td>0.0</td>\n",
       "      <td>0.0</td>\n",
       "      <td>0.0</td>\n",
       "      <td>1</td>\n",
       "      <td>0</td>\n",
       "      <td>0</td>\n",
       "      <td>1</td>\n",
       "      <td>0</td>\n",
       "      <td>0</td>\n",
       "      <td>0</td>\n",
       "      <td>0</td>\n",
       "      <td>0</td>\n",
       "      <td>1</td>\n",
       "      <td>0</td>\n",
       "      <td>0</td>\n",
       "      <td>224.0000</td>\n",
       "      <td>1</td>\n",
       "    </tr>\n",
       "    <tr>\n",
       "      <th>5818</th>\n",
       "      <td>1.0</td>\n",
       "      <td>0.0</td>\n",
       "      <td>0.0</td>\n",
       "      <td>0.0</td>\n",
       "      <td>0.0</td>\n",
       "      <td>0.0</td>\n",
       "      <td>0.0</td>\n",
       "      <td>1</td>\n",
       "      <td>0</td>\n",
       "      <td>0</td>\n",
       "      <td>1</td>\n",
       "      <td>0</td>\n",
       "      <td>0</td>\n",
       "      <td>0</td>\n",
       "      <td>0</td>\n",
       "      <td>0</td>\n",
       "      <td>1</td>\n",
       "      <td>0</td>\n",
       "      <td>0</td>\n",
       "      <td>480.0000</td>\n",
       "      <td>1</td>\n",
       "    </tr>\n",
       "  </tbody>\n",
       "</table>\n",
       "<p>2302 rows × 21 columns</p>\n",
       "</div>"
      ],
      "text/plain": [
       "      USA   UK  Italy  Belgium  Romania  Australia  India  QtyRequired  \\\n",
       "5279  0.0  0.0    0.0      0.0      0.0        0.0    1.0            1   \n",
       "1435  1.0  0.0    0.0      0.0      0.0        0.0    0.0            1   \n",
       "3199  0.0  0.0    0.0      0.0      1.0        0.0    0.0            2   \n",
       "5408  0.0  0.0    0.0      0.0      0.0        0.0    1.0            1   \n",
       "5324  0.0  0.0    0.0      0.0      0.0        0.0    1.0            1   \n",
       "...   ...  ...    ...      ...      ...        ...    ...          ...   \n",
       "5810  1.0  0.0    0.0      0.0      0.0        0.0    0.0            1   \n",
       "5811  1.0  0.0    0.0      0.0      0.0        0.0    0.0           11   \n",
       "5812  1.0  0.0    0.0      0.0      0.0        0.0    0.0            2   \n",
       "5813  1.0  0.0    0.0      0.0      0.0        0.0    0.0            1   \n",
       "5818  1.0  0.0    0.0      0.0      0.0        0.0    0.0            1   \n",
       "\n",
       "      Hand Tufted  Durry  Double Back  Hand Woven  Knotted  Jacquard  \\\n",
       "5279            0      1            0           0        0         0   \n",
       "1435            1      0            0           0        0         0   \n",
       "3199            1      0            0           0        0         0   \n",
       "5408            0      0            0           1        0         0   \n",
       "5324            0      0            0           1        0         0   \n",
       "...           ...    ...          ...         ...      ...       ...   \n",
       "5810            0      0            0           0        1         0   \n",
       "5811            0      0            0           0        0         1   \n",
       "5812            0      0            1           0        0         0   \n",
       "5813            0      0            1           0        0         0   \n",
       "5818            0      0            1           0        0         0   \n",
       "\n",
       "      Handloom  Other  REC  Round  Square    AreaFt  Order Conversion  \n",
       "5279         0      0    1      0       0    8.4375                 0  \n",
       "1435         0      0    1      0       0    4.0000                 0  \n",
       "3199         0      0    1      0       0    1.7778                 0  \n",
       "5408         0      0    1      0       0   15.0000                 0  \n",
       "5324         0      0    1      0       0   39.8125                 0  \n",
       "...        ...    ...  ...    ...     ...       ...               ...  \n",
       "5810         0      0    1      0       0  108.0000                 1  \n",
       "5811         0      0    1      0       0  117.0000                 1  \n",
       "5812         0      0    1      0       0  140.0000                 1  \n",
       "5813         0      0    1      0       0  224.0000                 1  \n",
       "5818         0      0    1      0       0  480.0000                 1  \n",
       "\n",
       "[2302 rows x 21 columns]"
      ]
     },
     "execution_count": 15,
     "metadata": {},
     "output_type": "execute_result"
    }
   ],
   "source": [
    "#Creating dummy variables\n",
    "features_ohe = pd.get_dummies(merge_oc, columns = ['ShapeName'])\n",
    "features_ohe = features_ohe.drop('CustomerCode',axis=1)\n",
    "features_ohe = features_ohe.drop('CountryName',axis=1)\n",
    "features_ohe = features_ohe.drop('ITEM_NAME',axis=1)\n",
    "features_ohe = features_ohe.drop('ShapeName_REC',axis=1)\n",
    "features_ohe = features_ohe.drop('ShapeName_ROUND',axis=1)\n",
    "features_ohe = features_ohe.drop('ShapeName_SQUARE',axis=1)\n",
    "features_ohe\n",
    "# Set the display options to show all columns\n",
    "pd.set_option('display.max_columns', None)\n",
    "features_ohe"
   ]
  },
  {
   "cell_type": "code",
   "execution_count": 16,
   "id": "5d41dccf",
   "metadata": {},
   "outputs": [],
   "source": [
    "#Creating Testing and Training sets from the balanced data\n",
    "features = features_ohe.drop('Order Conversion', axis=1)\n",
    "x = features\n",
    "y = features_ohe.loc[:, 'Order Conversion']\n",
    "x_train, x_test, y_train, y_test = train_test_split(x, y, train_size = .80)"
   ]
  },
  {
   "cell_type": "markdown",
   "id": "0e992bb9",
   "metadata": {},
   "source": [
    "# Significant Variable Discovery"
   ]
  },
  {
   "cell_type": "markdown",
   "id": "bbe3e01c",
   "metadata": {},
   "source": [
    "## Correlation Coefficients"
   ]
  },
  {
   "cell_type": "code",
   "execution_count": 17,
   "id": "6d05ea37",
   "metadata": {},
   "outputs": [
    {
     "name": "stderr",
     "output_type": "stream",
     "text": [
      "C:\\Users\\p-mir\\AppData\\Local\\Temp\\ipykernel_29452\\872179886.py:4: DeprecationWarning: `np.bool` is a deprecated alias for the builtin `bool`. To silence this warning, use `bool` by itself. Doing this will not modify any behavior and is safe. If you specifically wanted the numpy scalar type, use `np.bool_` here.\n",
      "Deprecated in NumPy 1.20; for more details and guidance: https://numpy.org/devdocs/release/1.20.0-notes.html#deprecations\n",
      "  sns.heatmap(corr, mask=np.zeros_like(corr, dtype=np.bool),\n"
     ]
    },
    {
     "data": {
      "text/plain": [
       "<AxesSubplot:>"
      ]
     },
     "execution_count": 17,
     "metadata": {},
     "output_type": "execute_result"
    },
    {
     "data": {
      "image/png": "[encoded data removed]",
      "text/plain": [
       "<Figure size 720x576 with 2 Axes>"
      ]
     },
     "metadata": {
      "needs_background": "light"
     },
     "output_type": "display_data"
    }
   ],
   "source": [
    "# run correlation matrix and plot\n",
    "f, ax = plt.subplots(figsize=(10, 8))\n",
    "corr = features_ohe.corr()\n",
    "sns.heatmap(corr, mask=np.zeros_like(corr, dtype=np.bool),\n",
    "            cmap=sns.diverging_palette(220, 10, as_cmap=True),\n",
    "            square=True, ax=ax)"
   ]
  },
  {
   "cell_type": "markdown",
   "id": "0ada6ff0",
   "metadata": {},
   "source": [
    "## Chi-Square "
   ]
  },
  {
   "cell_type": "code",
   "execution_count": 59,
   "id": "132d9d4b",
   "metadata": {},
   "outputs": [
    {
     "data": {
      "text/html": [
       "<div>\n",
       "<style scoped>\n",
       "    .dataframe tbody tr th:only-of-type {\n",
       "        vertical-align: middle;\n",
       "    }\n",
       "\n",
       "    .dataframe tbody tr th {\n",
       "        vertical-align: top;\n",
       "    }\n",
       "\n",
       "    .dataframe thead th {\n",
       "        text-align: right;\n",
       "    }\n",
       "</style>\n",
       "<table border=\"1\" class=\"dataframe\">\n",
       "  <thead>\n",
       "    <tr style=\"text-align: right;\">\n",
       "      <th></th>\n",
       "      <th>AreaFt</th>\n",
       "      <th>QtyRequired</th>\n",
       "      <th>Belgium</th>\n",
       "      <th>Knotted</th>\n",
       "      <th>Other</th>\n",
       "      <th>India</th>\n",
       "      <th>USA</th>\n",
       "      <th>UK</th>\n",
       "      <th>Durry</th>\n",
       "      <th>Double Back</th>\n",
       "      <th>Hand Woven</th>\n",
       "    </tr>\n",
       "  </thead>\n",
       "  <tbody>\n",
       "    <tr>\n",
       "      <th>5279</th>\n",
       "      <td>8.4375</td>\n",
       "      <td>1</td>\n",
       "      <td>0.0</td>\n",
       "      <td>0</td>\n",
       "      <td>0</td>\n",
       "      <td>1.0</td>\n",
       "      <td>0.0</td>\n",
       "      <td>0.0</td>\n",
       "      <td>1</td>\n",
       "      <td>0</td>\n",
       "      <td>0</td>\n",
       "    </tr>\n",
       "    <tr>\n",
       "      <th>1435</th>\n",
       "      <td>4.0000</td>\n",
       "      <td>1</td>\n",
       "      <td>0.0</td>\n",
       "      <td>0</td>\n",
       "      <td>0</td>\n",
       "      <td>0.0</td>\n",
       "      <td>1.0</td>\n",
       "      <td>0.0</td>\n",
       "      <td>0</td>\n",
       "      <td>0</td>\n",
       "      <td>0</td>\n",
       "    </tr>\n",
       "    <tr>\n",
       "      <th>3199</th>\n",
       "      <td>1.7778</td>\n",
       "      <td>2</td>\n",
       "      <td>0.0</td>\n",
       "      <td>0</td>\n",
       "      <td>0</td>\n",
       "      <td>0.0</td>\n",
       "      <td>0.0</td>\n",
       "      <td>0.0</td>\n",
       "      <td>0</td>\n",
       "      <td>0</td>\n",
       "      <td>0</td>\n",
       "    </tr>\n",
       "    <tr>\n",
       "      <th>5408</th>\n",
       "      <td>15.0000</td>\n",
       "      <td>1</td>\n",
       "      <td>0.0</td>\n",
       "      <td>0</td>\n",
       "      <td>0</td>\n",
       "      <td>1.0</td>\n",
       "      <td>0.0</td>\n",
       "      <td>0.0</td>\n",
       "      <td>0</td>\n",
       "      <td>0</td>\n",
       "      <td>1</td>\n",
       "    </tr>\n",
       "    <tr>\n",
       "      <th>5324</th>\n",
       "      <td>39.8125</td>\n",
       "      <td>1</td>\n",
       "      <td>0.0</td>\n",
       "      <td>0</td>\n",
       "      <td>0</td>\n",
       "      <td>1.0</td>\n",
       "      <td>0.0</td>\n",
       "      <td>0.0</td>\n",
       "      <td>0</td>\n",
       "      <td>0</td>\n",
       "      <td>1</td>\n",
       "    </tr>\n",
       "  </tbody>\n",
       "</table>\n",
       "</div>"
      ],
      "text/plain": [
       "       AreaFt  QtyRequired  Belgium  Knotted  Other  India  USA   UK  Durry  \\\n",
       "5279   8.4375            1      0.0        0      0    1.0  0.0  0.0      1   \n",
       "1435   4.0000            1      0.0        0      0    0.0  1.0  0.0      0   \n",
       "3199   1.7778            2      0.0        0      0    0.0  0.0  0.0      0   \n",
       "5408  15.0000            1      0.0        0      0    1.0  0.0  0.0      0   \n",
       "5324  39.8125            1      0.0        0      0    1.0  0.0  0.0      0   \n",
       "\n",
       "      Double Back  Hand Woven  \n",
       "5279            0           0  \n",
       "1435            0           0  \n",
       "3199            0           0  \n",
       "5408            0           1  \n",
       "5324            0           1  "
      ]
     },
     "execution_count": 59,
     "metadata": {},
     "output_type": "execute_result"
    }
   ],
   "source": [
    "feature_selector = SelectKBest(chi2, k = \"all\")\n",
    "fit = feature_selector.fit(x,y)\n",
    "\n",
    "p_values = pd.DataFrame(fit.pvalues_)\n",
    "scores = pd.DataFrame(fit.scores_)\n",
    "input_variable_names = pd.DataFrame(x.columns)\n",
    "summary_stats = pd.concat([input_variable_names, p_values, scores], axis = 1)\n",
    "summary_stats.columns = [\"input_variable\", \"p_value\", \"chi2_score\"]\n",
    "summary_stats.sort_values(by = \"p_value\", inplace = True)\n",
    "\n",
    "p_value_threshold = 0.05\n",
    "score_threshold = 5\n",
    "\n",
    "selected_variables = summary_stats.loc[(summary_stats[\"chi2_score\"] >= score_threshold) &\n",
    "                                       (summary_stats[\"p_value\"] <= p_value_threshold)]\n",
    "selected_variables = selected_variables[\"input_variable\"].tolist()\n",
    "X_new = x[selected_variables]\n",
    "X_new.head()"
   ]
  },
  {
   "cell_type": "markdown",
   "id": "e23c468b",
   "metadata": {},
   "source": [
    "## Logistic Regression Classifier"
   ]
  },
  {
   "cell_type": "code",
   "execution_count": 19,
   "id": "893fad49",
   "metadata": {},
   "outputs": [],
   "source": [
    "#Scaling the data\n",
    "ss = StandardScaler()\n",
    "X = ss.fit_transform(features_ohe)\n",
    "x_train_scaled = ss.fit_transform(x_train)\n",
    "x_test_scaled = ss.transform(x_test)"
   ]
  },
  {
   "cell_type": "code",
   "execution_count": 20,
   "id": "e5aa51d4",
   "metadata": {},
   "outputs": [
    {
     "data": {
      "text/html": [
       "<style>#sk-container-id-1 {color: black;background-color: white;}#sk-container-id-1 pre{padding: 0;}#sk-container-id-1 div.sk-toggleable {background-color: white;}#sk-container-id-1 label.sk-toggleable__label {cursor: pointer;display: block;width: 100%;margin-bottom: 0;padding: 0.3em;box-sizing: border-box;text-align: center;}#sk-container-id-1 label.sk-toggleable__label-arrow:before {content: \"▸\";float: left;margin-right: 0.25em;color: #696969;}#sk-container-id-1 label.sk-toggleable__label-arrow:hover:before {color: black;}#sk-container-id-1 div.sk-estimator:hover label.sk-toggleable__label-arrow:before {color: black;}#sk-container-id-1 div.sk-toggleable__content {max-height: 0;max-width: 0;overflow: hidden;text-align: left;background-color: #f0f8ff;}#sk-container-id-1 div.sk-toggleable__content pre {margin: 0.2em;color: black;border-radius: 0.25em;background-color: #f0f8ff;}#sk-container-id-1 input.sk-toggleable__control:checked~div.sk-toggleable__content {max-height: 200px;max-width: 100%;overflow: auto;}#sk-container-id-1 input.sk-toggleable__control:checked~label.sk-toggleable__label-arrow:before {content: \"▾\";}#sk-container-id-1 div.sk-estimator input.sk-toggleable__control:checked~label.sk-toggleable__label {background-color: #d4ebff;}#sk-container-id-1 div.sk-label input.sk-toggleable__control:checked~label.sk-toggleable__label {background-color: #d4ebff;}#sk-container-id-1 input.sk-hidden--visually {border: 0;clip: rect(1px 1px 1px 1px);clip: rect(1px, 1px, 1px, 1px);height: 1px;margin: -1px;overflow: hidden;padding: 0;position: absolute;width: 1px;}#sk-container-id-1 div.sk-estimator {font-family: monospace;background-color: #f0f8ff;border: 1px dotted black;border-radius: 0.25em;box-sizing: border-box;margin-bottom: 0.5em;}#sk-container-id-1 div.sk-estimator:hover {background-color: #d4ebff;}#sk-container-id-1 div.sk-parallel-item::after {content: \"\";width: 100%;border-bottom: 1px solid gray;flex-grow: 1;}#sk-container-id-1 div.sk-label:hover label.sk-toggleable__label {background-color: #d4ebff;}#sk-container-id-1 div.sk-serial::before {content: \"\";position: absolute;border-left: 1px solid gray;box-sizing: border-box;top: 0;bottom: 0;left: 50%;z-index: 0;}#sk-container-id-1 div.sk-serial {display: flex;flex-direction: column;align-items: center;background-color: white;padding-right: 0.2em;padding-left: 0.2em;position: relative;}#sk-container-id-1 div.sk-item {position: relative;z-index: 1;}#sk-container-id-1 div.sk-parallel {display: flex;align-items: stretch;justify-content: center;background-color: white;position: relative;}#sk-container-id-1 div.sk-item::before, #sk-container-id-1 div.sk-parallel-item::before {content: \"\";position: absolute;border-left: 1px solid gray;box-sizing: border-box;top: 0;bottom: 0;left: 50%;z-index: -1;}#sk-container-id-1 div.sk-parallel-item {display: flex;flex-direction: column;z-index: 1;position: relative;background-color: white;}#sk-container-id-1 div.sk-parallel-item:first-child::after {align-self: flex-end;width: 50%;}#sk-container-id-1 div.sk-parallel-item:last-child::after {align-self: flex-start;width: 50%;}#sk-container-id-1 div.sk-parallel-item:only-child::after {width: 0;}#sk-container-id-1 div.sk-dashed-wrapped {border: 1px dashed gray;margin: 0 0.4em 0.5em 0.4em;box-sizing: border-box;padding-bottom: 0.4em;background-color: white;}#sk-container-id-1 div.sk-label label {font-family: monospace;font-weight: bold;display: inline-block;line-height: 1.2em;}#sk-container-id-1 div.sk-label-container {text-align: center;}#sk-container-id-1 div.sk-container {/* jupyter's `normalize.less` sets `[hidden] { display: none; }` but bootstrap.min.css set `[hidden] { display: none !important; }` so we also need the `!important` here to be able to override the default hidden behavior on the sphinx rendered scikit-learn.org. See: https://github.com/scikit-learn/scikit-learn/issues/21755 */display: inline-block !important;position: relative;}#sk-container-id-1 div.sk-text-repr-fallback {display: none;}</style><div id=\"sk-container-id-1\" class=\"sk-top-container\"><div class=\"sk-text-repr-fallback\"><pre>LogisticRegression()</pre><b>In a Jupyter environment, please rerun this cell to show the HTML representation or trust the notebook. <br />On GitHub, the HTML representation is unable to render, please try loading this page with nbviewer.org.</b></div><div class=\"sk-container\" hidden><div class=\"sk-item\"><div class=\"sk-estimator sk-toggleable\"><input class=\"sk-toggleable__control sk-hidden--visually\" id=\"sk-estimator-id-1\" type=\"checkbox\" checked><label for=\"sk-estimator-id-1\" class=\"sk-toggleable__label sk-toggleable__label-arrow\">LogisticRegression</label><div class=\"sk-toggleable__content\"><pre>LogisticRegression()</pre></div></div></div></div></div>"
      ],
      "text/plain": [
       "LogisticRegression()"
      ]
     },
     "execution_count": 20,
     "metadata": {},
     "output_type": "execute_result"
    }
   ],
   "source": [
    "#Creating a logistic regression predictive model\n",
    "model_log_reg = LogisticRegression()\n",
    "model_log_reg.fit(x_train_scaled, y_train)"
   ]
  },
  {
   "cell_type": "code",
   "execution_count": 21,
   "id": "86a40545",
   "metadata": {},
   "outputs": [
    {
     "name": "stdout",
     "output_type": "stream",
     "text": [
      "0.8004338394793926\n"
     ]
    },
    {
     "data": {
      "image/png": "[encoded data removed]",
      "text/plain": [
       "<Figure size 360x360 with 2 Axes>"
      ]
     },
     "metadata": {
      "needs_background": "light"
     },
     "output_type": "display_data"
    }
   ],
   "source": [
    "#Creating a confusion matrix of the logistic model\n",
    "predictions = model_log_reg.predict(x_test_scaled)\n",
    "cm = metrics.confusion_matrix(y_test, predictions)\n",
    "\n",
    "# Use score method to get accuracy of the logistic regression model\n",
    "score = model_log_reg.score(x_test_scaled, y_test)\n",
    "print(score)\n",
    "\n",
    "plt.figure(figsize=(5,5))\n",
    "sns.heatmap(cm, annot=True, fmt=\".3f\", linewidths=.5, square = True, cmap = 'Blues_r');\n",
    "plt.ylabel('Actual label');\n",
    "plt.xlabel('Predicted label');\n",
    "all_sample_title = 'Accuracy Score: {0}'.format(cm)\n",
    "plt.title(all_sample_title, size = 3);"
   ]
  },
  {
   "cell_type": "code",
   "execution_count": 22,
   "id": "47d357b4",
   "metadata": {},
   "outputs": [],
   "source": [
    "#Finding features contributing most to predictive logistic model\n",
    "importances = pd.DataFrame(data={\n",
    "    'Attribute': x_train.columns,\n",
    "    'Importance': model_log_reg.coef_[0]\n",
    "})\n",
    "importances = importances.sort_values(by='Importance', ascending=False)"
   ]
  },
  {
   "cell_type": "code",
   "execution_count": 23,
   "id": "a0bd1ee7",
   "metadata": {},
   "outputs": [
    {
     "data": {
      "image/png": "[encoded data removed]",
      "text/plain": [
       "<Figure size 432x288 with 1 Axes>"
      ]
     },
     "metadata": {
      "needs_background": "light"
     },
     "output_type": "display_data"
    }
   ],
   "source": [
    "plt.bar(x=importances['Attribute'], height=importances['Importance'], color='#087E8B')\n",
    "plt.title('Feature importances obtained from coefficients', size=20)\n",
    "plt.xticks(rotation='vertical')\n",
    "plt.show()"
   ]
  },
  {
   "cell_type": "markdown",
   "id": "6f05bfa7",
   "metadata": {},
   "source": [
    "## Decision Tree Classifier"
   ]
  },
  {
   "cell_type": "code",
   "execution_count": 24,
   "id": "8938b2f9",
   "metadata": {},
   "outputs": [
    {
     "name": "stdout",
     "output_type": "stream",
     "text": [
      "DecisionTreeClassifier()\n"
     ]
    }
   ],
   "source": [
    "#Creating a decision tree classification model\n",
    "model_dec_tree = DecisionTreeClassifier()\n",
    "model_dec_tree.fit(x_train_scaled, y_train)\n",
    "print(model_dec_tree)"
   ]
  },
  {
   "cell_type": "code",
   "execution_count": 25,
   "id": "918c187e",
   "metadata": {},
   "outputs": [
    {
     "name": "stdout",
     "output_type": "stream",
     "text": [
      "              precision    recall  f1-score   support\n",
      "\n",
      "           0       0.86      0.97      0.91       923\n",
      "           1       0.96      0.84      0.90       918\n",
      "\n",
      "    accuracy                           0.90      1841\n",
      "   macro avg       0.91      0.90      0.90      1841\n",
      "weighted avg       0.91      0.90      0.90      1841\n",
      "\n",
      "[[891  32]\n",
      " [146 772]]\n"
     ]
    }
   ],
   "source": [
    "# Make predictions\n",
    "expected = y_train\n",
    "predicted = model_dec_tree.predict(x_train_scaled)\n",
    "  \n",
    "# Summarize the fit of the model\n",
    "print(metrics.classification_report(expected, predicted))\n",
    "print(metrics.confusion_matrix(expected, predicted))"
   ]
  },
  {
   "cell_type": "code",
   "execution_count": 26,
   "id": "28f6e60a",
   "metadata": {},
   "outputs": [],
   "source": [
    "#Finding features most important to decision tree classifier\n",
    "model = XGBClassifier()\n",
    "model.fit(x_train_scaled, y_train)\n",
    "importances = pd.DataFrame(data={\n",
    "    'Attribute': x_train.columns,\n",
    "    'Importance': model.feature_importances_\n",
    "})\n",
    "importances = importances.sort_values(by='Importance', ascending=False)"
   ]
  },
  {
   "cell_type": "code",
   "execution_count": 27,
   "id": "6a058201",
   "metadata": {},
   "outputs": [
    {
     "data": {
      "image/png": "[encoded data removed]",
      "text/plain": [
       "<Figure size 432x288 with 1 Axes>"
      ]
     },
     "metadata": {
      "needs_background": "light"
     },
     "output_type": "display_data"
    }
   ],
   "source": [
    "plt.bar(x=importances['Attribute'], height=importances['Importance'], color='#087E8B')\n",
    "plt.title('Feature importances obtained from coefficients', size=20)\n",
    "plt.xticks(rotation='vertical')\n",
    "plt.show()"
   ]
  },
  {
   "cell_type": "markdown",
   "id": "bc0e3fed",
   "metadata": {},
   "source": [
    "## Random Forests"
   ]
  },
  {
   "cell_type": "code",
   "execution_count": 28,
   "id": "170b57ad",
   "metadata": {},
   "outputs": [
    {
     "name": "stdout",
     "output_type": "stream",
     "text": [
      "Accuracy: 0.8351409978308026\n",
      "Confusion matrix:\n",
      " [[208  20]\n",
      " [ 56 177]]\n"
     ]
    }
   ],
   "source": [
    "# Create random forest classifier object\n",
    "rfc = RandomForestClassifier(n_estimators=100, random_state=42)\n",
    "\n",
    "# Train the model on the training data\n",
    "rfc.fit(x_train, y_train)\n",
    "\n",
    "# Make predictions on the testing data\n",
    "y_pred = rfc.predict(x_test)\n",
    "\n",
    "# Evaluate the performance of the model\n",
    "accuracy = accuracy_score(y_test, y_pred)\n",
    "confusion = confusion_matrix(y_test, y_pred)\n",
    "\n",
    "print('Accuracy:', accuracy)\n",
    "print('Confusion matrix:\\n', confusion)"
   ]
  },
  {
   "cell_type": "code",
   "execution_count": 29,
   "id": "6c42b62b",
   "metadata": {},
   "outputs": [
    {
     "data": {
      "image/png": "[encoded data removed]",
      "text/plain": [
       "<Figure size 432x288 with 1 Axes>"
      ]
     },
     "metadata": {
      "needs_background": "light"
     },
     "output_type": "display_data"
    }
   ],
   "source": [
    "# Create random forest classifier object\n",
    "rfc = RandomForestClassifier(n_estimators=100, random_state=42)\n",
    "\n",
    "# Train the model on the data\n",
    "rfc.fit(x, y)\n",
    "\n",
    "# Get feature importances\n",
    "importances = rfc.feature_importances_\n",
    "features = x.columns\n",
    "\n",
    "# Sort feature importances in descending order\n",
    "indices = np.argsort(importances)[::-1]\n",
    "\n",
    "# Rearrange feature names so they match the sorted feature importances\n",
    "names = [features[i] for i in indices]\n",
    "\n",
    "# Create plot\n",
    "plt.figure()\n",
    "\n",
    "# Create plot title\n",
    "plt.title(\"Feature Importance\")\n",
    "\n",
    "# Add bars\n",
    "plt.bar(range(x.shape[1]), importances[indices])\n",
    "\n",
    "# Add feature names as x-axis labels\n",
    "plt.xticks(range(x.shape[1]), names, rotation=90)\n",
    "\n",
    "# Show plot\n",
    "plt.show()"
   ]
  },
  {
   "cell_type": "markdown",
   "id": "d1e55423",
   "metadata": {},
   "source": [
    "## Recursive Feature Elimination with Cross-Validation (RFECV)"
   ]
  },
  {
   "cell_type": "code",
   "execution_count": 42,
   "id": "bd864df8",
   "metadata": {},
   "outputs": [
    {
     "data": {
      "image/png": "[encoded data removed]",
      "text/plain": [
       "<Figure size 432x288 with 1 Axes>"
      ]
     },
     "metadata": {
      "needs_background": "light"
     },
     "output_type": "display_data"
    },
    {
     "name": "stdout",
     "output_type": "stream",
     "text": [
      "Optimal number of features: 6\n",
      "Selected features: Index(['feat0', 'feat7', 'feat8', 'feat11', 'feat13', 'feat16'], dtype='object')\n"
     ]
    }
   ],
   "source": [
    "from sklearn.feature_selection import RFECV\n",
    "from sklearn.ensemble import RandomForestClassifier\n",
    "from sklearn.datasets import make_classification\n",
    "import matplotlib.pyplot as plt\n",
    "\n",
    "\n",
    "\n",
    "# Create a random forest classifier\n",
    "rfc = RandomForestClassifier(random_state=42)\n",
    "\n",
    "# Create an RFECV object with the random forest classifier and 5-fold cross-validation\n",
    "rfecv = RFECV(estimator=rfc, step=1, cv=5, scoring='accuracy')\n",
    "\n",
    "# Fit the RFECV object on the data\n",
    "rfecv.fit(X_pca, y)\n",
    "\n",
    "# Plot the number of features vs. cross-validation scores\n",
    "plt.figure()\n",
    "plt.xlabel(\"Number of features selected\")\n",
    "plt.ylabel(\"Cross validation score (nb of correct classifications)\")\n",
    "plt.plot(range(1, len(rfecv.cv_results_['mean_test_score']) + 1), rfecv.cv_results_['mean_test_score'])\n",
    "plt.show()\n",
    "\n",
    "# Convert X to a Pandas DataFrame\n",
    "X_df = pd.DataFrame(X_pca, columns=['feat'+str(i) for i in range(x.shape[1])])\n",
    "\n",
    "# Print the optimal number of features and the selected features\n",
    "print(\"Optimal number of features: %d\" % rfecv.n_features_)\n",
    "print(\"Selected features: %s\" % X_df.columns[rfecv.support_])"
   ]
  },
  {
   "cell_type": "markdown",
   "id": "01a04991",
   "metadata": {},
   "source": [
    "# Clustering Analysis"
   ]
  },
  {
   "cell_type": "markdown",
   "id": "8d8fa23b",
   "metadata": {},
   "source": [
    "## PCA"
   ]
  },
  {
   "cell_type": "code",
   "execution_count": 32,
   "id": "cb754aef",
   "metadata": {},
   "outputs": [
    {
     "data": {
      "image/png": "[encoded data removed]",
      "text/plain": [
       "<Figure size 432x288 with 1 Axes>"
      ]
     },
     "metadata": {
      "needs_background": "light"
     },
     "output_type": "display_data"
    }
   ],
   "source": [
    "# Create PCA object with n_components equal to the number of features\n",
    "pca = PCA(n_components=x.shape[1])\n",
    "\n",
    "# Fit the PCA model on the data\n",
    "pca.fit(x)\n",
    "\n",
    "# Get the explained variance ratio for each component\n",
    "variance_ratio = pca.explained_variance_ratio_\n",
    "\n",
    "# Plot the cumulative explained variance as a function of the number of components\n",
    "plt.plot(range(1, x.shape[1]+1), np.cumsum(variance_ratio))\n",
    "plt.xlabel('Number of components')\n",
    "plt.ylabel('Cumulative explained variance')\n",
    "plt.show()\n",
    "\n",
    "# Transform the data into the principal component space\n",
    "X_pca = pca.transform(x)"
   ]
  },
  {
   "cell_type": "code",
   "execution_count": 33,
   "id": "02782e4f",
   "metadata": {},
   "outputs": [
    {
     "name": "stdout",
     "output_type": "stream",
     "text": [
      "        feature  importance\n",
      "19       AreaFt   26.348346\n",
      "7   QtyRequired    6.123336\n",
      "8   Hand Tufted    1.055871\n",
      "6         India    0.974990\n",
      "0           USA    0.935754\n",
      "9         Durry    0.911966\n",
      "11   Hand Woven    0.734696\n",
      "12      Knotted    0.644229\n",
      "10  Double Back    0.630593\n",
      "3       Belgium    0.612742\n"
     ]
    }
   ],
   "source": [
    "# Get the loading coefficients for each principal component\n",
    "loadings = pca.components_.T * np.sqrt(pca.explained_variance_)\n",
    "\n",
    "# Calculate the absolute value of the loading coefficients for each feature\n",
    "feature_importance = np.abs(loadings).sum(axis=1)\n",
    "\n",
    "# Rank the features by their importance\n",
    "feature_ranking = pd.DataFrame({'feature': x.columns, 'importance': feature_importance}).sort_values(by='importance', ascending=False)\n",
    "\n",
    "# Print the top 10 features by importance\n",
    "print(feature_ranking.head(10))"
   ]
  },
  {
   "cell_type": "markdown",
   "id": "880e9a04",
   "metadata": {},
   "source": [
    "## KMeans Clustering Analysis"
   ]
  },
  {
   "cell_type": "code",
   "execution_count": 34,
   "id": "094ccb97",
   "metadata": {
    "scrolled": true
   },
   "outputs": [
    {
     "data": {
      "image/png": "[encoded data removed]",
      "text/plain": [
       "<Figure size 432x288 with 1 Axes>"
      ]
     },
     "metadata": {
      "needs_background": "light"
     },
     "output_type": "display_data"
    }
   ],
   "source": [
    "# Create a list to hold the SSE values for each k\n",
    "sse = []\n",
    "\n",
    "# Fit KMeans algorithm on the data for different values of k\n",
    "for k in range(1, 11):\n",
    "    kmeans = KMeans(n_clusters=k, init='k-means++', max_iter=300, n_init=10, random_state=0)\n",
    "    kmeans.fit(X_pca)\n",
    "    sse.append(kmeans.inertia_)\n",
    "\n",
    "# Plot the SSE values against corresponding values of k\n",
    "plt.plot(range(1, 11), sse)\n",
    "plt.title('Elbow Method')\n",
    "plt.xlabel('Number of clusters (k)')\n",
    "plt.ylabel('SSE')\n",
    "plt.show()"
   ]
  },
  {
   "cell_type": "markdown",
   "id": "37eb259d",
   "metadata": {},
   "source": [
    "# Cluster Characteristics"
   ]
  },
  {
   "cell_type": "code",
   "execution_count": 44,
   "id": "9fcb2de8",
   "metadata": {},
   "outputs": [
    {
     "name": "stderr",
     "output_type": "stream",
     "text": [
      "C:\\Users\\p-mir\\anaconda3\\lib\\site-packages\\sklearn\\cluster\\_kmeans.py:870: FutureWarning: The default value of `n_init` will change from 10 to 'auto' in 1.4. Set the value of `n_init` explicitly to suppress the warning\n",
      "  warnings.warn(\n",
      "C:\\Users\\p-mir\\anaconda3\\lib\\site-packages\\sklearn\\base.py:432: UserWarning: X has feature names, but KMeans was fitted without feature names\n",
      "  warnings.warn(\n"
     ]
    }
   ],
   "source": [
    "# Perform KMeans clustering on the dataset\n",
    "kmeans = KMeans(n_clusters=3, random_state=0)\n",
    "kmeans.fit(X_pca)\n",
    "\n",
    "# Get the cluster centers, sizes, WSS, and BSS\n",
    "cluster_centers = kmeans.cluster_centers_\n",
    "cluster_sizes = [sum(kmeans.labels_ == i) for i in range(kmeans.n_clusters)]\n",
    "wss = kmeans.inertia_\n",
    "bss = kmeans.score(x) * -1\n",
    "\n",
    "# Calculate the silhouette score\n",
    "silhouette_avg = silhouette_score(X_pca, kmeans.labels_)"
   ]
  },
  {
   "cell_type": "code",
   "execution_count": 50,
   "id": "43d5a352",
   "metadata": {},
   "outputs": [
    {
     "data": {
      "image/png": "[encoded data removed]",
      "text/plain": [
       "<Figure size 432x288 with 1 Axes>"
      ]
     },
     "metadata": {
      "needs_background": "light"
     },
     "output_type": "display_data"
    }
   ],
   "source": [
    "# Plot the data points and cluster assignments\n",
    "plt.scatter(X_pca[:, 0], X_pca[:, 1], c=kmeans.labels_)\n",
    "plt.scatter(centroids[:, 0], centroids[:, 1], marker='x', s=100, linewidths=3, color='r')\n",
    "plt.title('K-means clustering with 3 clusters')\n",
    "plt.show()"
   ]
  },
  {
   "cell_type": "code",
   "execution_count": 37,
   "id": "dce763dd",
   "metadata": {},
   "outputs": [
    {
     "data": {
      "text/plain": [
       "[1046, 1059, 197]"
      ]
     },
     "execution_count": 37,
     "metadata": {},
     "output_type": "execute_result"
    }
   ],
   "source": [
    "cluster_sizes"
   ]
  },
  {
   "cell_type": "code",
   "execution_count": 38,
   "id": "ae288dad",
   "metadata": {},
   "outputs": [
    {
     "data": {
      "text/plain": [
       "422197.68407385016"
      ]
     },
     "execution_count": 38,
     "metadata": {},
     "output_type": "execute_result"
    }
   ],
   "source": [
    "wss"
   ]
  },
  {
   "cell_type": "code",
   "execution_count": 39,
   "id": "02989567",
   "metadata": {},
   "outputs": [
    {
     "data": {
      "text/plain": [
       "3579668.1042319397"
      ]
     },
     "execution_count": 39,
     "metadata": {},
     "output_type": "execute_result"
    }
   ],
   "source": [
    "bss"
   ]
  },
  {
   "cell_type": "code",
   "execution_count": 40,
   "id": "80791732",
   "metadata": {},
   "outputs": [
    {
     "data": {
      "text/plain": [
       "0.7081557079098887"
      ]
     },
     "execution_count": 40,
     "metadata": {},
     "output_type": "execute_result"
    }
   ],
   "source": [
    "silhouette_avg"
   ]
  },
  {
   "cell_type": "code",
   "execution_count": 41,
   "id": "233b6cf1",
   "metadata": {},
   "outputs": [
    {
     "name": "stderr",
     "output_type": "stream",
     "text": [
      "C:\\Users\\p-mir\\anaconda3\\lib\\site-packages\\sklearn\\cluster\\_kmeans.py:870: FutureWarning: The default value of `n_init` will change from 10 to 'auto' in 1.4. Set the value of `n_init` explicitly to suppress the warning\n",
      "  warnings.warn(\n",
      "C:\\Users\\p-mir\\anaconda3\\lib\\site-packages\\sklearn\\cluster\\_kmeans.py:870: FutureWarning: The default value of `n_init` will change from 10 to 'auto' in 1.4. Set the value of `n_init` explicitly to suppress the warning\n",
      "  warnings.warn(\n",
      "C:\\Users\\p-mir\\anaconda3\\lib\\site-packages\\sklearn\\cluster\\_kmeans.py:870: FutureWarning: The default value of `n_init` will change from 10 to 'auto' in 1.4. Set the value of `n_init` explicitly to suppress the warning\n",
      "  warnings.warn(\n",
      "C:\\Users\\p-mir\\anaconda3\\lib\\site-packages\\sklearn\\cluster\\_kmeans.py:870: FutureWarning: The default value of `n_init` will change from 10 to 'auto' in 1.4. Set the value of `n_init` explicitly to suppress the warning\n",
      "  warnings.warn(\n",
      "C:\\Users\\p-mir\\anaconda3\\lib\\site-packages\\sklearn\\cluster\\_kmeans.py:870: FutureWarning: The default value of `n_init` will change from 10 to 'auto' in 1.4. Set the value of `n_init` explicitly to suppress the warning\n",
      "  warnings.warn(\n",
      "C:\\Users\\p-mir\\anaconda3\\lib\\site-packages\\sklearn\\cluster\\_kmeans.py:870: FutureWarning: The default value of `n_init` will change from 10 to 'auto' in 1.4. Set the value of `n_init` explicitly to suppress the warning\n",
      "  warnings.warn(\n",
      "C:\\Users\\p-mir\\anaconda3\\lib\\site-packages\\sklearn\\cluster\\_kmeans.py:870: FutureWarning: The default value of `n_init` will change from 10 to 'auto' in 1.4. Set the value of `n_init` explicitly to suppress the warning\n",
      "  warnings.warn(\n",
      "C:\\Users\\p-mir\\anaconda3\\lib\\site-packages\\sklearn\\cluster\\_kmeans.py:870: FutureWarning: The default value of `n_init` will change from 10 to 'auto' in 1.4. Set the value of `n_init` explicitly to suppress the warning\n",
      "  warnings.warn(\n",
      "C:\\Users\\p-mir\\anaconda3\\lib\\site-packages\\sklearn\\cluster\\_kmeans.py:870: FutureWarning: The default value of `n_init` will change from 10 to 'auto' in 1.4. Set the value of `n_init` explicitly to suppress the warning\n",
      "  warnings.warn(\n"
     ]
    },
    {
     "data": {
      "image/png": "[encoded data removed]",
      "text/plain": [
       "<Figure size 432x288 with 1 Axes>"
      ]
     },
     "metadata": {
      "needs_background": "light"
     },
     "output_type": "display_data"
    }
   ],
   "source": [
    "# Define range of number of clusters to test\n",
    "num_clusters = range(2, 11)\n",
    "\n",
    "# Compute silhouette scores for each number of clusters\n",
    "silhouette_scores = []\n",
    "for n in num_clusters:\n",
    "    kmeans = KMeans(n_clusters=n)\n",
    "    kmeans.fit(X_pca)\n",
    "    score = silhouette_score(X_pca, kmeans.labels_)\n",
    "    silhouette_scores.append(score)\n",
    "\n",
    "# Plot silhouette scores\n",
    "plt.plot(num_clusters, silhouette_scores, marker='o')\n",
    "plt.xlabel('Number of clusters')\n",
    "plt.ylabel('Silhouette score')\n",
    "plt.title('Silhouette scores for different numbers of clusters')\n",
    "plt.show()"
   ]
  },
  {
   "cell_type": "code",
   "execution_count": null,
   "id": "030496ab",
   "metadata": {},
   "outputs": [],
   "source": []
  }
 ],
 "metadata": {
  "kernelspec": {
   "display_name": "Python 3 (ipykernel)",
   "language": "python",
   "name": "python3"
  },
  "language_info": {
   "codemirror_mode": {
    "name": "ipython",
    "version": 3
   },
   "file_extension": ".py",
   "mimetype": "text/x-python",
   "name": "python",
   "nbconvert_exporter": "python",
   "pygments_lexer": "ipython3",
   "version": "3.9.12"
  }
 },
 "nbformat": 4,
 "nbformat_minor": 5
}
